{
 "cells": [
  {
   "cell_type": "code",
   "execution_count": 1,
   "id": "applicable-submission",
   "metadata": {},
   "outputs": [],
   "source": [
    "import numpy as np\n",
    "import pickle\n",
    "import os\n",
    "import cv2\n",
    "import math\n",
    "import face_alignment\n",
    "import matplotlib.pyplot as plt\n",
    "import scipy.linalg as linalg"
   ]
  },
  {
   "cell_type": "code",
   "execution_count": 2,
   "id": "turned-associate",
   "metadata": {},
   "outputs": [],
   "source": [
    "from sklearn.neighbors import NearestNeighbors\n",
    "\n",
    "def best_fit_transform(A, B):\n",
    "    '''\n",
    "    Calculates the least-squares best-fit transform that maps corresponding points A to B in m spatial dimensions\n",
    "    Input:\n",
    "      A: Nxm numpy array of corresponding points\n",
    "      B: Nxm numpy array of corresponding points\n",
    "    Returns:\n",
    "      T: (m+1)x(m+1) homogeneous transformation matrix that maps A on to B\n",
    "      R: mxm rotation matrix\n",
    "      t: mx1 translation vector\n",
    "    '''\n",
    "\n",
    "    assert A.shape == B.shape\n",
    "\n",
    "    # get number of dimensions\n",
    "    m = A.shape[1]\n",
    "\n",
    "    # translate points to their centroids\n",
    "    centroid_A = np.mean(A, axis=0)\n",
    "    centroid_B = np.mean(B, axis=0)\n",
    "    AA = A - centroid_A\n",
    "    BB = B - centroid_B\n",
    "\n",
    "    # rotation matrix\n",
    "    H = np.dot(AA.T, BB)\n",
    "    U, S, Vt = np.linalg.svd(H)\n",
    "    R = np.dot(Vt.T, U.T)\n",
    "\n",
    "    # special reflection case\n",
    "    if np.linalg.det(R) < 0:\n",
    "       Vt[m-1,:] *= -1\n",
    "       R = np.dot(Vt.T, U.T)\n",
    "\n",
    "    # translation\n",
    "    t = centroid_B.T - np.dot(R,centroid_A.T)\n",
    "\n",
    "    # Step added for scalar (deprecated)\n",
    "    p_deno = np.sum(AA**2, axis=0)\n",
    "    y_nume = np.sum(BB**2, axis=0)\n",
    "    s = np.identity(m+1)\n",
    "    s[:m, :m] = s[:m, :m] * (y_nume / p_deno) ** 0.25\n",
    "\n",
    "    # homogeneous transformation\n",
    "    T = np.identity(m+1)\n",
    "    T[:m, :m] = R\n",
    "    T[:m, m] = t\n",
    "\n",
    "    # Step : (Deprecated for Scalar)\n",
    "    # T = np.dot(s, T)\n",
    "\n",
    "    return T, R, t\n",
    "\n",
    "\n",
    "def nearest_neighbor(src, dst):\n",
    "    '''\n",
    "    Find the nearest (Euclidean) neighbor in dst for each point in src\n",
    "    Input:\n",
    "        src: Nxm array of points\n",
    "        dst: Nxm array of points\n",
    "    Output:\n",
    "        distances: Euclidean distances of the nearest neighbor\n",
    "        indices: dst indices of the nearest neighbor\n",
    "    '''\n",
    "\n",
    "    assert src.shape == dst.shape\n",
    "\n",
    "    neigh = NearestNeighbors(n_neighbors=1)\n",
    "    neigh.fit(dst)\n",
    "    distances, indices = neigh.kneighbors(src, return_distance=True)\n",
    "    return distances.ravel(), indices.ravel()\n",
    "\n",
    "\n",
    "def icp(A, B, init_pose=None, max_iterations=50, tolerance=0.0001):\n",
    "    '''\n",
    "    The Iterative Closest Point method: finds best-fit transform that maps points A on to points B\n",
    "    Input:\n",
    "        A: Nxm numpy array of source mD points\n",
    "        B: Nxm numpy array of destination mD point\n",
    "        init_pose: (m+1)x(m+1) homogeneous transformation\n",
    "        max_iterations: exit algorithm after max_iterations\n",
    "        tolerance: convergence criteria\n",
    "    Output:\n",
    "        T: final homogeneous transformation that maps A on to B\n",
    "        distances: Euclidean distances (errors) of the nearest neighbor\n",
    "        i: number of iterations to converge\n",
    "    '''\n",
    "\n",
    "    assert A.shape == B.shape\n",
    "\n",
    "    # get number of dimensions\n",
    "    m = A.shape[1]\n",
    "\n",
    "    # make points homogeneous, copy them to maintain the originals\n",
    "    src = np.ones((m+1,A.shape[0]))\n",
    "    dst = np.ones((m+1,B.shape[0]))\n",
    "    src[:m,:] = np.copy(A.T)\n",
    "    dst[:m,:] = np.copy(B.T)\n",
    "\n",
    "    # apply the initial pose estimation\n",
    "    if init_pose is not None:\n",
    "        src = np.dot(init_pose, src)\n",
    "\n",
    "    prev_error = 0\n",
    "\n",
    "    for i in range(max_iterations):\n",
    "        # # find the nearest neighbors between the current source and destination points\n",
    "        # distances, indices = nearest_neighbor(src[:m,:].T, dst[:m,:].T)\n",
    "        #\n",
    "        # # compute the transformation between the current source and nearest destination points\n",
    "        # T,_,_ = best_fit_transform(src[:m,:].T, dst[:m,indices].T)\n",
    "\n",
    "        # Step x : just for our T-shape transform, we don'n need this nearest neighbor search\n",
    "        distances = np.sum((src[:m, :] - dst[:m, :])**2)\n",
    "        T, _, _ = best_fit_transform(src[:m, :].T, dst[:m, :].T)\n",
    "\n",
    "        # update the current source\n",
    "        src = np.dot(T, src)\n",
    "\n",
    "        # check error\n",
    "        mean_error = np.mean(distances)\n",
    "        if np.abs(prev_error - mean_error) < tolerance:\n",
    "            break\n",
    "        prev_error = mean_error\n",
    "\n",
    "    # calculate final transformation\n",
    "    T,_,_ = best_fit_transform(A, src[:m,:].T)\n",
    "\n",
    "    return T, distances, i"
   ]
  },
  {
   "cell_type": "code",
   "execution_count": 15,
   "id": "activated-sequence",
   "metadata": {},
   "outputs": [],
   "source": [
    "def vis_landmark(shape, linewidth=2):\n",
    "    '''\n",
    "    Visualize landmark on images.\n",
    "    '''\n",
    "    def draw_curve(idx,color,loop=False):\n",
    "        plt.plot(shape[idx, 0], shape[idx, 1],color=color) # \n",
    "#         plt.plot(shape[idx[-1]+1, 0], shape[idx[-1], 1])\n",
    "        if (loop):\n",
    "            plt.plot([shape[idx[0], 0],shape[idx[-1], 0]],[shape[idx[0], 1], shape[idx[-1], 1]],color=color)\n",
    "\n",
    "    draw_curve(list(range(0, 17)),'b')  # jaw\n",
    "    draw_curve(list(range(17, 22)),'lime')  # eye brow\n",
    "    draw_curve(list(range(22, 27)),'lime')\n",
    "    draw_curve(list(range(27, 36)),'c')  # nose\n",
    "    draw_curve(list(range(36, 42)),'tomato',loop=True)  # eyes\n",
    "    draw_curve(list(range(42, 48)),'tomato',loop=True)\n",
    "    draw_curve(list(range(48, 60)),'m',loop=True)  # mouth\n",
    "    draw_curve(list(range(60, 67)),'m',loop=True)"
   ]
  },
  {
   "cell_type": "code",
   "execution_count": 57,
   "id": "monthly-address",
   "metadata": {},
   "outputs": [],
   "source": [
    "predictor = face_alignment.FaceAlignment(face_alignment.LandmarksType._3D, device='cpu', flip_input=True)\n",
    "image_path = r'F:\\code\\avatar\\tools\\image\\75660750-09419780-5c64-11ea-9d2f-97666e6ec82a.jpg'\n",
    "img = cv2.imread(image_path)\n",
    "shapes = predictor.get_landmarks(img) \n",
    "shapes = shapes[0]\n",
    "# shapes_n, scale, shift = norm_input_face(shapes.copy())\n",
    "# pitch, yaw, roll = get_EulerAugles(shapes_n)"
   ]
  },
  {
   "cell_type": "code",
   "execution_count": 58,
   "id": "proprietary-knight",
   "metadata": {},
   "outputs": [],
   "source": [
    "t_shape_idx = (27, 28, 29, 30, 33, 36, 39, 42, 45)  # nose position\n",
    "std_face = np.loadtxt('src/STD_FACE_LANDMARKS.txt')\n",
    "anchor_t_shape = std_face[t_shape_idx, :]\n",
    "landmarks = shapes #.detach().cpu().numpy().reshape(68, 3)\n",
    "frame_t_shape = landmarks[t_shape_idx, :]\n",
    "T, distance, itr = icp(frame_t_shape, anchor_t_shape)\n",
    "landmarks = np.hstack((landmarks, np.ones((68, 1))))\n",
    "registered_landmarks = np.dot(T, landmarks.T).T"
   ]
  },
  {
   "cell_type": "code",
   "execution_count": 59,
   "id": "pursuant-papua",
   "metadata": {},
   "outputs": [
    {
     "data": {
      "text/plain": [
       "array([1., 1., 1., 1., 1., 1., 1., 1., 1., 1., 1., 1., 1., 1., 1., 1., 1.,\n",
       "       1., 1., 1., 1., 1., 1., 1., 1., 1., 1., 1., 1., 1., 1., 1., 1., 1.,\n",
       "       1., 1., 1., 1., 1., 1., 1., 1., 1., 1., 1., 1., 1., 1., 1., 1., 1.,\n",
       "       1., 1., 1., 1., 1., 1., 1., 1., 1., 1., 1., 1., 1., 1., 1., 1., 1.])"
      ]
     },
     "execution_count": 59,
     "metadata": {},
     "output_type": "execute_result"
    }
   ],
   "source": [
    "registered_landmarks[:,-1]"
   ]
  },
  {
   "cell_type": "markdown",
   "id": "quick-harvest",
   "metadata": {},
   "source": [
    "## 标准的 landmark"
   ]
  },
  {
   "cell_type": "code",
   "execution_count": 60,
   "id": "patient-teddy",
   "metadata": {},
   "outputs": [
    {
     "name": "stderr",
     "output_type": "stream",
     "text": [
      "No handles with labels found to put in legend.\n"
     ]
    },
    {
     "data": {
      "image/png": "[encoded data removed]",
      "text/plain": [
       "<Figure size 288x288 with 1 Axes>"
      ]
     },
     "metadata": {
      "needs_background": "light"
     },
     "output_type": "display_data"
    }
   ],
   "source": [
    "rot_shapes = std_face.copy()\n",
    "rot_shapes[:,1] = -rot_shapes[:,1]\n",
    "plt.figure(figsize=(4,4))\n",
    "vis_landmark(rot_shapes)\n",
    "plt.legend()\n",
    "plt.show()"
   ]
  },
  {
   "cell_type": "code",
   "execution_count": 61,
   "id": "engaging-ideal",
   "metadata": {},
   "outputs": [
    {
     "name": "stderr",
     "output_type": "stream",
     "text": [
      "No handles with labels found to put in legend.\n"
     ]
    },
    {
     "data": {
      "image/png": "[encoded data removed]",
      "text/plain": [
       "<Figure size 288x288 with 1 Axes>"
      ]
     },
     "metadata": {
      "needs_background": "light"
     },
     "output_type": "display_data"
    }
   ],
   "source": [
    "rot_shapes = registered_landmarks.copy()\n",
    "rot_shapes[:,1] = -rot_shapes[:,1]\n",
    "plt.figure(figsize=(4,4))\n",
    "vis_landmark(rot_shapes)\n",
    "plt.legend()\n",
    "plt.show()"
   ]
  },
  {
   "cell_type": "code",
   "execution_count": 62,
   "id": "forbidden-supervisor",
   "metadata": {},
   "outputs": [
    {
     "name": "stderr",
     "output_type": "stream",
     "text": [
      "No handles with labels found to put in legend.\n"
     ]
    },
    {
     "data": {
      "image/png": "[encoded data removed]",
      "text/plain": [
       "<Figure size 288x288 with 1 Axes>"
      ]
     },
     "metadata": {
      "needs_background": "light"
     },
     "output_type": "display_data"
    }
   ],
   "source": [
    "rot_shapes = shapes.copy()\n",
    "rot_shapes[:,1] = -rot_shapes[:,1]\n",
    "plt.figure(figsize=(4,4))\n",
    "vis_landmark(rot_shapes)\n",
    "plt.legend()\n",
    "plt.show()"
   ]
  },
  {
   "cell_type": "code",
   "execution_count": 20,
   "id": "fresh-faith",
   "metadata": {},
   "outputs": [
    {
     "data": {
      "text/plain": [
       "(9, 3)"
      ]
     },
     "execution_count": 20,
     "metadata": {},
     "output_type": "execute_result"
    }
   ],
   "source": [
    "anchor_t_shape.shape"
   ]
  },
  {
   "cell_type": "code",
   "execution_count": 43,
   "id": "sharp-democrat",
   "metadata": {},
   "outputs": [],
   "source": [
    "import pickle"
   ]
  },
  {
   "cell_type": "code",
   "execution_count": 44,
   "id": "veterinary-harrison",
   "metadata": {},
   "outputs": [],
   "source": [
    "with open(r'F:\\dataset\\Avatar\\Obama\\for_MakeItTalk\\dump\\autovc_retrain_mel_train_gaze.pickle','rb') as f:\n",
    "    gaze = pickle.load(f)"
   ]
  },
  {
   "cell_type": "code",
   "execution_count": 53,
   "id": "demanding-installation",
   "metadata": {},
   "outputs": [
    {
     "data": {
      "text/plain": [
       "(312, 68, 3)"
      ]
     },
     "execution_count": 53,
     "metadata": {},
     "output_type": "execute_result"
    }
   ],
   "source": [
    "gaze['anchor_t_shape'][0].shape"
   ]
  }
 ],
 "metadata": {
  "kernelspec": {
   "display_name": "Python 3",
   "language": "python",
   "name": "python3"
  },
  "language_info": {
   "codemirror_mode": {
    "name": "ipython",
    "version": 3
   },
   "file_extension": ".py",
   "mimetype": "text/x-python",
   "name": "python",
   "nbconvert_exporter": "python",
   "pygments_lexer": "ipython3",
   "version": "3.7.3"
  }
 },
 "nbformat": 4,
 "nbformat_minor": 5
}
